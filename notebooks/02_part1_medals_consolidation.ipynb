{
 "cells": [
  {
   "cell_type": "markdown",
   "metadata": {},
   "source": [
    "# Parte 1: Consolida\u00e7\u00e3o de Medalhas por Pa\u00eds\n\n",
    "## \ud83d\udc65 Autores\n",
    "**Carlos Lavor Neto** - Engenharia de Computa\u00e7\u00e3o - UEA\n\n",
    "**Alexandro Pantoja** - Orientador - UEA\n\n",
    "## Objetivos:\n",
    "1. Obter total de medalhas por pa\u00eds (Ver\u00e3o, Inverno e Total Geral)\n",
    "2. Criar tabelas ordenadas por total de medalhas\n",
    "3. Gerar gr\u00e1ficos dos top 50 pa\u00edses\n\n",
    "Resultados compat\u00edveis com: https://pt.wikipedia.org/wiki/Quadro_de_medalhas_dos_Jogos_Ol%C3%ADmpicos"
   ]
  },
  {
   "cell_type": "code",
   "execution_count": null,
   "metadata": {},
   "outputs": [],
   "source": [
    "import pandas as pd\n",
    "import numpy as np\n",
    "import matplotlib.pyplot as plt\n",
    "import seaborn as sns\n",
    "import json\n",
    "from pathlib import Path\n",
    "from datetime import datetime\n",
    "import warnings\n",
    "warnings.filterwarnings('ignore')\n",
    "\n",
    "# Configura\u00e7\u00e3o de visualiza\u00e7\u00e3o\n",
    "plt.style.use('seaborn-v0_8-darkgrid')\n",
    "sns.set_palette(\"husl\")\n",
    "plt.rcParams['figure.figsize'] = (14, 8)\n",
    "plt.rcParams['font.size'] = 10\n",
    "\n",
    "print(f\"pandas: {pd.__version__}\")\n",
    "print(f\"matplotlib: {plt.matplotlib.__version__}\")"
   ]
  },
  {
   "cell_type": "markdown",
   "metadata": {},
   "source": [
    "## 1. Carregar Dados da Camada Bronze"
   ]
  },
  {
   "cell_type": "code",
   "execution_count": null,
   "metadata": {},
   "outputs": [],
   "source": [
    "# Definir paths\n",
    "BASE_PATH = Path('..')\n",
    "BRONZE_PATH = BASE_PATH / 'bronze'\n",
    "GOLD_PATH = BASE_PATH / 'gold'\n",
    "OUTPUT_PATH = BASE_PATH / 'outputs'\n",
    "\n",
    "# Criar diret\u00f3rios se n\u00e3o existirem\n",
    "GOLD_PATH.mkdir(exist_ok=True)\n",
    "(OUTPUT_PATH / 'tables').mkdir(parents=True, exist_ok=True)\n",
    "(OUTPUT_PATH / 'figures').mkdir(parents=True, exist_ok=True)\n",
    "\n",
    "print(\"\u2713 Paths configurados\")"
   ]
  },
  {
   "cell_type": "code",
   "execution_count": null,
   "metadata": {},
   "outputs": [],
   "source": [
    "# Carregar dados\n",
    "print(\"Carregando dados da camada Bronze...\")\n",
    "\n",
    "df_medal_tally = pd.read_parquet(BRONZE_PATH / 'medal_tally.parquet')\n",
    "df_game = pd.read_parquet(BRONZE_PATH / 'game.parquet')\n",
    "df_country = pd.read_parquet(BRONZE_PATH / 'country.parquet')\n",
    "\n",
    "print(f\"\u2713 medal_tally: {df_medal_tally.shape}\")\n",
    "print(f\"\u2713 game: {df_game.shape}\")\n",
    "print(f\"\u2713 country: {df_country.shape}\")"
   ]
  },
  {
   "cell_type": "code",
   "execution_count": null,
   "metadata": {},
   "outputs": [],
   "source": [
    "# Explorar dados\n",
    "print(\"\\nPrimeiras linhas de medal_tally:\")\n",
    "display(df_medal_tally.head())\n",
    "\n",
    "print(\"\\nInforma\u00e7\u00e3o de temporadas:\")\n",
    "print(df_medal_tally['season'].value_counts())"
   ]
  },
  {
   "cell_type": "markdown",
   "metadata": {},
   "source": [
    "## 2. Consolida\u00e7\u00e3o de Medalhas"
   ]
  },
  {
   "cell_type": "markdown",
   "metadata": {},
   "source": [
    "### 2.1 Medalhas - Jogos de Ver\u00e3o"
   ]
  },
  {
   "cell_type": "code",
   "execution_count": null,
   "metadata": {},
   "outputs": [],
   "source": [
    "print(\"\\n\" + \"=\"*80)\n",
    "print(\"MEDALHAS - JOGOS DE VER\u00c3O\")\n",
    "print(\"=\"*80)\n",
    "\n",
    "# Filtrar apenas jogos de ver\u00e3o\n",
    "summer_medals = df_medal_tally[df_medal_tally['season'] == 'Summer'].copy()\n",
    "\n",
    "# Agregar por pa\u00eds\n",
    "medals_summer = summer_medals.groupby(['country', 'country_noc']).agg({\n",
    "    'gold': 'sum',\n",
    "    'silver': 'sum',\n",
    "    'bronze': 'sum',\n",
    "    'total': 'sum'\n",
    "}).reset_index()\n",
    "\n",
    "# Ordenar por total de medalhas\n",
    "medals_summer = medals_summer.sort_values('total', ascending=False).reset_index(drop=True)\n",
    "medals_summer['rank'] = range(1, len(medals_summer) + 1)\n",
    "\n",
    "# Reordenar colunas\n",
    "medals_summer = medals_summer[['rank', 'country', 'country_noc', 'gold', 'silver', 'bronze', 'total']]\n",
    "\n",
    "print(f\"\\nTotal de pa\u00edses: {len(medals_summer)}\")\n",
    "print(f\"Total de medalhas distribu\u00eddas: {medals_summer['total'].sum()}\")\n",
    "print(f\"\\nTop 10 pa\u00edses:\")\n",
    "display(medals_summer.head(10))"
   ]
  },
  {
   "cell_type": "markdown",
   "metadata": {},
   "source": [
    "### 2.2 Medalhas - Jogos de Inverno"
   ]
  },
  {
   "cell_type": "code",
   "execution_count": null,
   "metadata": {},
   "outputs": [],
   "source": [
    "print(\"\\n\" + \"=\"*80)\n",
    "print(\"MEDALHAS - JOGOS DE INVERNO\")\n",
    "print(\"=\"*80)\n",
    "\n",
    "# Filtrar apenas jogos de inverno\n",
    "winter_medals = df_medal_tally[df_medal_tally['season'] == 'Winter'].copy()\n",
    "\n",
    "# Agregar por pa\u00eds\n",
    "medals_winter = winter_medals.groupby(['country', 'country_noc']).agg({\n",
    "    'gold': 'sum',\n",
    "    'silver': 'sum',\n",
    "    'bronze': 'sum',\n",
    "    'total': 'sum'\n",
    "}).reset_index()\n",
    "\n",
    "# Ordenar por total de medalhas\n",
    "medals_winter = medals_winter.sort_values('total', ascending=False).reset_index(drop=True)\n",
    "medals_winter['rank'] = range(1, len(medals_winter) + 1)\n",
    "\n",
    "# Reordenar colunas\n",
    "medals_winter = medals_winter[['rank', 'country', 'country_noc', 'gold', 'silver', 'bronze', 'total']]\n",
    "\n",
    "print(f\"\\nTotal de pa\u00edses: {len(medals_winter)}\")\n",
    "print(f\"Total de medalhas distribu\u00eddas: {medals_winter['total'].sum()}\")\n",
    "print(f\"\\nTop 10 pa\u00edses:\")\n",
    "display(medals_winter.head(10))"
   ]
  },
  {
   "cell_type": "markdown",
   "metadata": {},
   "source": [
    "### 2.3 Medalhas - Total Geral"
   ]
  },
  {
   "cell_type": "code",
   "execution_count": null,
   "metadata": {},
   "outputs": [],
   "source": [
    "print(\"\\n\" + \"=\"*80)\n",
    "print(\"MEDALHAS - TOTAL GERAL\")\n",
    "print(\"=\"*80)\n",
    "\n",
    "# Agregar todas as medalhas\n",
    "medals_total = df_medal_tally.groupby(['country', 'country_noc']).agg({\n",
    "    'gold': 'sum',\n",
    "    'silver': 'sum',\n",
    "    'bronze': 'sum',\n",
    "    'total': 'sum'\n",
    "}).reset_index()\n",
    "\n",
    "# Ordenar por total de medalhas\n",
    "medals_total = medals_total.sort_values('total', ascending=False).reset_index(drop=True)\n",
    "medals_total['rank'] = range(1, len(medals_total) + 1)\n",
    "\n",
    "# Reordenar colunas\n",
    "medals_total = medals_total[['rank', 'country', 'country_noc', 'gold', 'silver', 'bronze', 'total']]\n",
    "\n",
    "print(f\"\\nTotal de pa\u00edses: {len(medals_total)}\")\n",
    "print(f\"Total de medalhas distribu\u00eddas: {medals_total['total'].sum()}\")\n",
    "print(f\"\\nTop 10 pa\u00edses:\")\n",
    "display(medals_total.head(10))"
   ]
  },
  {
   "cell_type": "markdown",
   "metadata": {},
   "source": [
    "## 3. Salvar Resultados na Camada Gold"
   ]
  },
  {
   "cell_type": "code",
   "execution_count": null,
   "metadata": {},
   "outputs": [],
   "source": [
    "def save_with_metadata(df, filename, description):\n",
    "    \"\"\"Salva DataFrame em parquet com metadados\"\"\"\n",
    "    # Salvar parquet\n",
    "    filepath = GOLD_PATH / f\"{filename}.parquet\"\n",
    "    df.to_parquet(filepath, index=False)\n",
    "    print(f\"\u2713 Salvo: {filepath}\")\n",
    "    \n",
    "    # Criar metadados\n",
    "    metadata = {\n",
    "        \"dataset_name\": filename,\n",
    "        \"description\": description,\n",
    "        \"created_at\": datetime.now().isoformat(),\n",
    "        \"source\": \"Consolidado de medal_tally (bronze layer)\",\n",
    "        \"shape\": {\"rows\": len(df), \"columns\": len(df.columns)},\n",
    "        \"columns\": list(df.columns),\n",
    "        \"dtypes\": df.dtypes.astype(str).to_dict()\n",
    "    }\n",
    "    \n",
    "    # Salvar metadados\n",
    "    metadata_path = GOLD_PATH / f\"{filename}_metadata.json\"\n",
    "    with open(metadata_path, 'w', encoding='utf-8') as f:\n",
    "        json.dump(metadata, f, indent=2, ensure_ascii=False)\n",
    "    print(f\"\u2713 Metadados salvos: {metadata_path}\")\n",
    "    \n",
    "    # Salvar tamb\u00e9m como CSV para f\u00e1cil visualiza\u00e7\u00e3o\n",
    "    csv_path = OUTPUT_PATH / 'tables' / f\"{filename}.csv\"\n",
    "    df.to_csv(csv_path, index=False, encoding='utf-8')\n",
    "    print(f\"\u2713 CSV salvo: {csv_path}\")\n",
    "\n",
    "print(\"\\nSalvando resultados...\\n\")\n",
    "\n",
    "save_with_metadata(medals_summer, 'medals_summer_consolidated', \n",
    "                   'Total de medalhas por pa\u00eds nos Jogos de Ver\u00e3o (1896-2022)')\n",
    "print()\n",
    "save_with_metadata(medals_winter, 'medals_winter_consolidated',\n",
    "                   'Total de medalhas por pa\u00eds nos Jogos de Inverno (1924-2022)')\n",
    "print()\n",
    "save_with_metadata(medals_total, 'medals_total_consolidated',\n",
    "                   'Total geral de medalhas por pa\u00eds (Ver\u00e3o + Inverno, 1896-2022)')"
   ]
  },
  {
   "cell_type": "markdown",
   "metadata": {},
   "source": [
    "## 4. Visualiza\u00e7\u00f5es - Top 50 Pa\u00edses"
   ]
  },
  {
   "cell_type": "markdown",
   "metadata": {},
   "source": [
    "### 4.1 Gr\u00e1fico - Jogos de Ver\u00e3o (Top 50)"
   ]
  },
  {
   "cell_type": "code",
   "execution_count": null,
   "metadata": {},
   "outputs": [],
   "source": [
    "# Top 50 pa\u00edses - Ver\u00e3o\n",
    "top50_summer = medals_summer.head(50).copy()\n",
    "\n",
    "# Preparar dados para gr\u00e1fico empilhado\n",
    "fig, ax = plt.subplots(figsize=(16, 12))\n",
    "\n",
    "y_pos = np.arange(len(top50_summer))\n",
    "width = 0.8\n",
    "\n",
    "# Criar barras empilhadas (de baixo para cima: bronze, prata, ouro)\n",
    "p1 = ax.barh(y_pos, top50_summer['bronze'], width, label='Bronze', color='#CD7F32')\n",
    "p2 = ax.barh(y_pos, top50_summer['silver'], width, left=top50_summer['bronze'], \n",
    "             label='Prata', color='#C0C0C0')\n",
    "p3 = ax.barh(y_pos, top50_summer['gold'], width, \n",
    "             left=top50_summer['bronze'] + top50_summer['silver'], \n",
    "             label='Ouro', color='#FFD700')\n",
    "\n",
    "# Configurar eixos\n",
    "ax.set_yticks(y_pos)\n",
    "ax.set_yticklabels(top50_summer['country_noc'])\n",
    "ax.invert_yaxis()  # Top no topo\n",
    "ax.set_xlabel('Total de Medalhas', fontsize=12, fontweight='bold')\n",
    "ax.set_ylabel('Pa\u00eds', fontsize=12, fontweight='bold')\n",
    "ax.set_title('Top 50 Pa\u00edses - Medalhas nos Jogos de Ver\u00e3o (1896-2022)', \n",
    "             fontsize=14, fontweight='bold', pad=20)\n",
    "\n",
    "# Adicionar valores totais nas barras\n",
    "for i, (idx, row) in enumerate(top50_summer.iterrows()):\n",
    "    ax.text(row['total'] + 20, i, str(int(row['total'])), \n",
    "            va='center', fontweight='bold', fontsize=9)\n",
    "\n",
    "ax.legend(loc='lower right', fontsize=10)\n",
    "ax.grid(axis='x', alpha=0.3)\n",
    "plt.tight_layout()\n",
    "\n",
    "# Salvar\n",
    "output_file = OUTPUT_PATH / 'figures' / 'top50_medals_summer.png'\n",
    "plt.savefig(output_file, dpi=300, bbox_inches='tight')\n",
    "print(f\"\u2713 Gr\u00e1fico salvo: {output_file}\")\n",
    "plt.show()"
   ]
  },
  {
   "cell_type": "markdown",
   "metadata": {},
   "source": [
    "### 4.2 Gr\u00e1fico - Jogos de Inverno (Top 50)"
   ]
  },
  {
   "cell_type": "code",
   "execution_count": null,
   "metadata": {},
   "outputs": [],
   "source": [
    "# Top 50 pa\u00edses - Inverno (ou todos se for menos de 50)\n",
    "n_countries = min(50, len(medals_winter))\n",
    "top50_winter = medals_winter.head(n_countries).copy()\n",
    "\n",
    "# Preparar dados para gr\u00e1fico empilhado\n",
    "fig, ax = plt.subplots(figsize=(16, 12))\n",
    "\n",
    "y_pos = np.arange(len(top50_winter))\n",
    "width = 0.8\n",
    "\n",
    "# Criar barras empilhadas\n",
    "p1 = ax.barh(y_pos, top50_winter['bronze'], width, label='Bronze', color='#CD7F32')\n",
    "p2 = ax.barh(y_pos, top50_winter['silver'], width, left=top50_winter['bronze'], \n",
    "             label='Prata', color='#C0C0C0')\n",
    "p3 = ax.barh(y_pos, top50_winter['gold'], width, \n",
    "             left=top50_winter['bronze'] + top50_winter['silver'], \n",
    "             label='Ouro', color='#FFD700')\n",
    "\n",
    "# Configurar eixos\n",
    "ax.set_yticks(y_pos)\n",
    "ax.set_yticklabels(top50_winter['country_noc'])\n",
    "ax.invert_yaxis()\n",
    "ax.set_xlabel('Total de Medalhas', fontsize=12, fontweight='bold')\n",
    "ax.set_ylabel('Pa\u00eds', fontsize=12, fontweight='bold')\n",
    "ax.set_title(f'Top {n_countries} Pa\u00edses - Medalhas nos Jogos de Inverno (1924-2022)', \n",
    "             fontsize=14, fontweight='bold', pad=20)\n",
    "\n",
    "# Adicionar valores totais\n",
    "for i, (idx, row) in enumerate(top50_winter.iterrows()):\n",
    "    ax.text(row['total'] + 5, i, str(int(row['total'])), \n",
    "            va='center', fontweight='bold', fontsize=9)\n",
    "\n",
    "ax.legend(loc='lower right', fontsize=10)\n",
    "ax.grid(axis='x', alpha=0.3)\n",
    "plt.tight_layout()\n",
    "\n",
    "# Salvar\n",
    "output_file = OUTPUT_PATH / 'figures' / 'top50_medals_winter.png'\n",
    "plt.savefig(output_file, dpi=300, bbox_inches='tight')\n",
    "print(f\"\u2713 Gr\u00e1fico salvo: {output_file}\")\n",
    "plt.show()"
   ]
  },
  {
   "cell_type": "markdown",
   "metadata": {},
   "source": [
    "### 4.3 Gr\u00e1fico - Total Geral (Top 50)"
   ]
  },
  {
   "cell_type": "code",
   "execution_count": null,
   "metadata": {},
   "outputs": [],
   "source": [
    "# Top 50 pa\u00edses - Total\n",
    "top50_total = medals_total.head(50).copy()\n",
    "\n",
    "# Preparar dados para gr\u00e1fico empilhado\n",
    "fig, ax = plt.subplots(figsize=(16, 12))\n",
    "\n",
    "y_pos = np.arange(len(top50_total))\n",
    "width = 0.8\n",
    "\n",
    "# Criar barras empilhadas\n",
    "p1 = ax.barh(y_pos, top50_total['bronze'], width, label='Bronze', color='#CD7F32')\n",
    "p2 = ax.barh(y_pos, top50_total['silver'], width, left=top50_total['bronze'], \n",
    "             label='Prata', color='#C0C0C0')\n",
    "p3 = ax.barh(y_pos, top50_total['gold'], width, \n",
    "             left=top50_total['bronze'] + top50_total['silver'], \n",
    "             label='Ouro', color='#FFD700')\n",
    "\n",
    "# Configurar eixos\n",
    "ax.set_yticks(y_pos)\n",
    "ax.set_yticklabels(top50_total['country_noc'])\n",
    "ax.invert_yaxis()\n",
    "ax.set_xlabel('Total de Medalhas', fontsize=12, fontweight='bold')\n",
    "ax.set_ylabel('Pa\u00eds', fontsize=12, fontweight='bold')\n",
    "ax.set_title('Top 50 Pa\u00edses - Total Geral de Medalhas (Ver\u00e3o + Inverno, 1896-2022)', \n",
    "             fontsize=14, fontweight='bold', pad=20)\n",
    "\n",
    "# Adicionar valores totais\n",
    "for i, (idx, row) in enumerate(top50_total.iterrows()):\n",
    "    ax.text(row['total'] + 30, i, str(int(row['total'])), \n",
    "            va='center', fontweight='bold', fontsize=9)\n",
    "\n",
    "ax.legend(loc='lower right', fontsize=10)\n",
    "ax.grid(axis='x', alpha=0.3)\n",
    "plt.tight_layout()\n",
    "\n",
    "# Salvar\n",
    "output_file = OUTPUT_PATH / 'figures' / 'top50_medals_total.png'\n",
    "plt.savefig(output_file, dpi=300, bbox_inches='tight')\n",
    "print(f\"\u2713 Gr\u00e1fico salvo: {output_file}\")\n",
    "plt.show()"
   ]
  },
  {
   "cell_type": "markdown",
   "metadata": {},
   "source": [
    "## 5. Estat\u00edsticas Resumidas"
   ]
  },
  {
   "cell_type": "code",
   "execution_count": null,
   "metadata": {},
   "outputs": [],
   "source": [
    "print(\"\\n\" + \"=\"*80)\n",
    "print(\"ESTAT\u00cdSTICAS RESUMIDAS - PARTE 1\")\n",
    "print(\"=\"*80)\n",
    "\n",
    "print(\"\\n1. JOGOS DE VER\u00c3O\")\n",
    "print(f\"   Pa\u00edses participantes: {len(medals_summer)}\")\n",
    "print(f\"   Total de medalhas: {medals_summer['total'].sum()}\")\n",
    "print(f\"   M\u00e9dia de medalhas por pa\u00eds: {medals_summer['total'].mean():.2f}\")\n",
    "print(f\"   Top 3 pa\u00edses:\")\n",
    "for i, row in medals_summer.head(3).iterrows():\n",
    "    print(f\"      {row['rank']}\u00ba {row['country']} ({row['country_noc']}): {int(row['total'])} medalhas\")\n",
    "\n",
    "print(\"\\n2. JOGOS DE INVERNO\")\n",
    "print(f\"   Pa\u00edses participantes: {len(medals_winter)}\")\n",
    "print(f\"   Total de medalhas: {medals_winter['total'].sum()}\")\n",
    "print(f\"   M\u00e9dia de medalhas por pa\u00eds: {medals_winter['total'].mean():.2f}\")\n",
    "print(f\"   Top 3 pa\u00edses:\")\n",
    "for i, row in medals_winter.head(3).iterrows():\n",
    "    print(f\"      {row['rank']}\u00ba {row['country']} ({row['country_noc']}): {int(row['total'])} medalhas\")\n",
    "\n",
    "print(\"\\n3. TOTAL GERAL\")\n",
    "print(f\"   Pa\u00edses participantes: {len(medals_total)}\")\n",
    "print(f\"   Total de medalhas: {medals_total['total'].sum()}\")\n",
    "print(f\"   M\u00e9dia de medalhas por pa\u00eds: {medals_total['total'].mean():.2f}\")\n",
    "print(f\"   Top 3 pa\u00edses:\")\n",
    "for i, row in medals_total.head(3).iterrows():\n",
    "    print(f\"      {row['rank']}\u00ba {row['country']} ({row['country_noc']}): {int(row['total'])} medalhas\")\n",
    "\n",
    "print(\"\\n\" + \"=\"*80)\n",
    "print(\"\u2713 PARTE 1 CONCLU\u00cdDA COM SUCESSO!\")\n",
    "print(\"=\"*80)"
   ]
  }
 ],
 "metadata": {
  "kernelspec": {
   "display_name": "Python 3",
   "language": "python",
   "name": "python3"
  },
  "language_info": {
   "codemirror_mode": {
    "name": "ipython",
    "version": 3
   },
   "file_extension": ".py",
   "mimetype": "text/x-python",
   "name": "python",
   "nbconvert_exporter": "python",
   "pygments_lexer": "ipython3",
   "version": "3.8.0"
  }
 },
 "nbformat": 4,
 "nbformat_minor": 4
}
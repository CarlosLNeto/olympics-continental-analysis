{
 "cells": [
  {
   "cell_type": "markdown",
   "metadata": {},
   "source": [
    "# Análise de Dados Olímpicos - Processamento Bronze Layer\n",
    "\n",
    "Este notebook realiza:\n",
    "1. Leitura dos dados raw (CSV)\n",
    "2. Conversão para formato Parquet\n",
    "3. Salvamento na camada Bronze\n",
    "4. Criação de metadados"
   ]
  },
  {
   "cell_type": "code",
   "execution_count": null,
   "metadata": {},
   "outputs": [],
   "source": [
    "import pandas as pd\n",
    "import numpy as np\n",
    "import json\n",
    "from pathlib import Path\n",
    "from datetime import datetime\n",
    "import warnings\n",
    "warnings.filterwarnings('ignore')\n",
    "\n",
    "print(f\"pandas version: {pd.__version__}\")\n",
    "print(f\"numpy version: {np.__version__}\")"
   ]
  },
  {
   "cell_type": "markdown",
   "metadata": {},
   "source": [
    "## 1. Configuração de Paths"
   ]
  },
  {
   "cell_type": "code",
   "execution_count": null,
   "metadata": {},
   "outputs": [],
   "source": [
    "# Definir paths\n",
    "BASE_PATH = Path('.')\n",
    "RAW_PATH = BASE_PATH / 'raw'\n",
    "BRONZE_PATH = BASE_PATH / 'bronze'\n",
    "GOLD_PATH = BASE_PATH / 'gold'\n",
    "OUTPUT_PATH = BASE_PATH / 'outputs'\n",
    "\n",
    "# Criar diretórios se não existirem\n",
    "BRONZE_PATH.mkdir(exist_ok=True)\n",
    "GOLD_PATH.mkdir(exist_ok=True)\n",
    "(OUTPUT_PATH / 'tables').mkdir(parents=True, exist_ok=True)\n",
    "(OUTPUT_PATH / 'figures').mkdir(parents=True, exist_ok=True)\n",
    "\n",
    "print(\"✓ Estrutura de diretórios criada\")"
   ]
  },
  {
   "cell_type": "markdown",
   "metadata": {},
   "source": [
    "## 2. Função para Criar Metadados"
   ]
  },
  {
   "cell_type": "code",
   "execution_count": null,
   "metadata": {},
   "outputs": [],
   "source": [
    "def create_metadata(df, dataset_name, source_file, description):\n",
    "    \"\"\"Cria metadados para um dataset\"\"\"\n",
    "    metadata = {\n",
    "        \"dataset_name\": dataset_name,\n",
    "        \"source_file\": source_file,\n",
    "        \"description\": description,\n",
    "        \"created_at\": datetime.now().isoformat(),\n",
    "        \"shape\": {\n",
    "            \"rows\": len(df),\n",
    "            \"columns\": len(df.columns)\n",
    "        },\n",
    "        \"columns\": list(df.columns),\n",
    "        \"dtypes\": df.dtypes.astype(str).to_dict(),\n",
    "        \"missing_values\": df.isnull().sum().to_dict(),\n",
    "        \"memory_usage_mb\": round(df.memory_usage(deep=True).sum() / 1024**2, 2)\n",
    "    }\n",
    "    return metadata\n",
    "\n",
    "def save_metadata(metadata, filepath):\n",
    "    \"\"\"Salva metadados em arquivo JSON\"\"\"\n",
    "    with open(filepath, 'w', encoding='utf-8') as f:\n",
    "        json.dump(metadata, f, indent=2, ensure_ascii=False)\n",
    "    print(f\"✓ Metadados salvos: {filepath}\")"
   ]
  },
  {
   "cell_type": "markdown",
   "metadata": {},
   "source": [
    "## 3. Processamento Olympics 1896-2022"
   ]
  },
  {
   "cell_type": "code",
   "execution_count": null,
   "metadata": {},
   "outputs": [],
   "source": [
    "print(\"\\n\" + \"=\"*80)\n",
    "print(\"PROCESSANDO: Olympics 1896-2022\")\n",
    "print(\"=\"*80)\n",
    "\n",
    "olympics_path = RAW_PATH / 'Olympics_1896_2022'"
   ]
  },
  {
   "cell_type": "markdown",
   "metadata": {},
   "source": [
    "### 3.1 Game (Informações dos Jogos)"
   ]
  },
  {
   "cell_type": "code",
   "execution_count": null,
   "metadata": {},
   "outputs": [],
   "source": [
    "print(\"\\n[1/6] Processando: game...\")\n",
    "df_game = pd.read_csv(olympics_path / 'world_olympedia_olympics_game.csv')\n",
    "\n",
    "# Criar coluna para identificar verão/inverno\n",
    "df_game['season'] = df_game['edition'].apply(lambda x: 'Winter' if 'Winter' in str(x) else 'Summer')\n",
    "\n",
    "print(f\"  Shape: {df_game.shape}\")\n",
    "print(f\"  Colunas: {df_game.columns.tolist()}\")\n",
    "\n",
    "# Salvar em parquet\n",
    "output_file = BRONZE_PATH / 'game.parquet'\n",
    "df_game.to_parquet(output_file, index=False)\n",
    "print(f\"✓ Salvo: {output_file}\")\n",
    "\n",
    "# Criar e salvar metadados\n",
    "metadata = create_metadata(df_game, 'Olympic Games', \n",
    "                          'world_olympedia_olympics_game.csv',\n",
    "                          'Informações sobre cada edição dos Jogos Olímpicos')\n",
    "save_metadata(metadata, BRONZE_PATH / 'game_metadata.json')\n",
    "\n",
    "df_game.head()"
   ]
  },
  {
   "cell_type": "markdown",
   "metadata": {},
   "source": [
    "### 3.2 Country (Países)"
   ]
  },
  {
   "cell_type": "code",
   "execution_count": null,
   "metadata": {},
   "outputs": [],
   "source": [
    "print(\"\\n[2/6] Processando: country...\")\n",
    "df_country = pd.read_csv(olympics_path / 'world_olympedia_olympics_country.csv')\n",
    "\n",
    "print(f\"  Shape: {df_country.shape}\")\n",
    "print(f\"  Colunas: {df_country.columns.tolist()}\")\n",
    "\n",
    "# Salvar em parquet\n",
    "output_file = BRONZE_PATH / 'country.parquet'\n",
    "df_country.to_parquet(output_file, index=False)\n",
    "print(f\"✓ Salvo: {output_file}\")\n",
    "\n",
    "# Criar e salvar metadados\n",
    "metadata = create_metadata(df_country, 'Countries', \n",
    "                          'world_olympedia_olympics_country.csv',\n",
    "                          'Lista de países participantes com códigos NOC')\n",
    "save_metadata(metadata, BRONZE_PATH / 'country_metadata.json')\n",
    "\n",
    "df_country.head()"
   ]
  },
  {
   "cell_type": "markdown",
   "metadata": {},
   "source": [
    "### 3.3 Medal Tally (Contagem de Medalhas)"
   ]
  },
  {
   "cell_type": "code",
   "execution_count": null,
   "metadata": {},
   "outputs": [],
   "source": [
    "print(\"\\n[3/6] Processando: medal_tally...\")\n",
    "df_medal_tally = pd.read_csv(olympics_path / 'world_olympedia_olympics_game_medal_tally.csv')\n",
    "\n",
    "# Adicionar informação de temporada\n",
    "df_medal_tally = df_medal_tally.merge(\n",
    "    df_game[['edition', 'season']], \n",
    "    on='edition', \n",
    "    how='left'\n",
    ")\n",
    "\n",
    "print(f\"  Shape: {df_medal_tally.shape}\")\n",
    "print(f\"  Colunas: {df_medal_tally.columns.tolist()}\")\n",
    "\n",
    "# Salvar em parquet\n",
    "output_file = BRONZE_PATH / 'medal_tally.parquet'\n",
    "df_medal_tally.to_parquet(output_file, index=False)\n",
    "print(f\"✓ Salvo: {output_file}\")\n",
    "\n",
    "# Criar e salvar metadados\n",
    "metadata = create_metadata(df_medal_tally, 'Medal Tally', \n",
    "                          'world_olympedia_olympics_game_medal_tally.csv',\n",
    "                          'Contagem de medalhas por país e edição dos jogos')\n",
    "save_metadata(metadata, BRONZE_PATH / 'medal_tally_metadata.json')\n",
    "\n",
    "df_medal_tally.head()"
   ]
  },
  {
   "cell_type": "markdown",
   "metadata": {},
   "source": [
    "### 3.4 Athlete Bio (Biografia dos Atletas)"
   ]
  },
  {
   "cell_type": "code",
   "execution_count": null,
   "metadata": {},
   "outputs": [],
   "source": [
    "print(\"\\n[4/6] Processando: athlete_bio...\")\n",
    "df_athlete_bio = pd.read_csv(olympics_path / 'world_olympedia_olympics_athlete_bio.csv')\n",
    "\n",
    "print(f\"  Shape: {df_athlete_bio.shape}\")\n",
    "print(f\"  Colunas: {df_athlete_bio.columns.tolist()}\")\n",
    "\n",
    "# Salvar em parquet (compressão ajuda com arquivo grande)\n",
    "output_file = BRONZE_PATH / 'athlete_bio.parquet'\n",
    "df_athlete_bio.to_parquet(output_file, index=False, compression='snappy')\n",
    "print(f\"✓ Salvo: {output_file}\")\n",
    "\n",
    "# Criar e salvar metadados\n",
    "metadata = create_metadata(df_athlete_bio, 'Athlete Biography', \n",
    "                          'world_olympedia_olympics_athlete_bio.csv',\n",
    "                          'Informações biográficas dos atletas olímpicos')\n",
    "save_metadata(metadata, BRONZE_PATH / 'athlete_bio_metadata.json')\n",
    "\n",
    "df_athlete_bio.head()"
   ]
  },
  {
   "cell_type": "markdown",
   "metadata": {},
   "source": [
    "### 3.5 Athlete Event Result (Resultados por Atleta/Evento)"
   ]
  },
  {
   "cell_type": "code",
   "execution_count": null,
   "metadata": {},
   "outputs": [],
   "source": [
    "print(\"\\n[5/6] Processando: athlete_event_result...\")\n",
    "df_athlete_event = pd.read_csv(olympics_path / 'world_olympedia_olympics_athlete_event_result.csv')\n",
    "\n",
    "# Adicionar informação de temporada\n",
    "df_athlete_event = df_athlete_event.merge(\n",
    "    df_game[['edition', 'season', 'year']], \n",
    "    on='edition', \n",
    "    how='left'\n",
    ")\n",
    "\n",
    "print(f\"  Shape: {df_athlete_event.shape}\")\n",
    "print(f\"  Colunas: {df_athlete_event.columns.tolist()}\")\n",
    "\n",
    "# Salvar em parquet\n",
    "output_file = BRONZE_PATH / 'athlete_event_result.parquet'\n",
    "df_athlete_event.to_parquet(output_file, index=False, compression='snappy')\n",
    "print(f\"✓ Salvo: {output_file}\")\n",
    "\n",
    "# Criar e salvar metadados\n",
    "metadata = create_metadata(df_athlete_event, 'Athlete Event Results', \n",
    "                          'world_olympedia_olympics_athlete_event_result.csv',\n",
    "                          'Resultados detalhados de atletas por evento')\n",
    "save_metadata(metadata, BRONZE_PATH / 'athlete_event_result_metadata.json')\n",
    "\n",
    "df_athlete_event.head()"
   ]
  },
  {
   "cell_type": "markdown",
   "metadata": {},
   "source": [
    "### 3.6 Result (Resultados dos Eventos)"
   ]
  },
  {
   "cell_type": "code",
   "execution_count": null,
   "metadata": {},
   "outputs": [],
   "source": [
    "print(\"\\n[6/6] Processando: result...\")\n",
    "df_result = pd.read_csv(olympics_path / 'world_olympedia_olympics_result.csv')\n",
    "\n",
    "print(f\"  Shape: {df_result.shape}\")\n",
    "print(f\"  Colunas: {df_result.columns.tolist()}\")\n",
    "\n",
    "# Salvar em parquet\n",
    "output_file = BRONZE_PATH / 'result.parquet'\n",
    "df_result.to_parquet(output_file, index=False)\n",
    "print(f\"✓ Salvo: {output_file}\")\n",
    "\n",
    "# Criar e salvar metadados\n",
    "metadata = create_metadata(df_result, 'Event Results', \n",
    "                          'world_olympedia_olympics_result.csv',\n",
    "                          'Resultados detalhados dos eventos olímpicos')\n",
    "save_metadata(metadata, BRONZE_PATH / 'result_metadata.json')\n",
    "\n",
    "df_result.head()"
   ]
  },
  {
   "cell_type": "markdown",
   "metadata": {},
   "source": [
    "## 4. Processamento Olympics Paris 2024"
   ]
  },
  {
   "cell_type": "code",
   "execution_count": null,
   "metadata": {},
   "outputs": [],
   "source": [
    "print(\"\\n\" + \"=\"*80)\n",
    "print(\"PROCESSANDO: Olympics Paris 2024\")\n",
    "print(\"=\"*80)\n",
    "\n",
    "paris_path = RAW_PATH / 'Olympics_Paris2024'"
   ]
  },
  {
   "cell_type": "markdown",
   "metadata": {},
   "source": [
    "### 4.1 Athletes Paris 2024"
   ]
  },
  {
   "cell_type": "code",
   "execution_count": null,
   "metadata": {},
   "outputs": [],
   "source": [
    "print(\"\\n[1/3] Processando: athletes_paris2024...\")\n",
    "df_athletes_2024 = pd.read_csv(paris_path / 'athletes.csv')\n",
    "\n",
    "print(f\"  Shape: {df_athletes_2024.shape}\")\n",
    "print(f\"  Colunas: {df_athletes_2024.columns.tolist()}\")\n",
    "\n",
    "# Salvar em parquet\n",
    "output_file = BRONZE_PATH / 'athletes_paris2024.parquet'\n",
    "df_athletes_2024.to_parquet(output_file, index=False)\n",
    "print(f\"✓ Salvo: {output_file}\")\n",
    "\n",
    "# Criar e salvar metadados\n",
    "metadata = create_metadata(df_athletes_2024, 'Athletes Paris 2024', \n",
    "                          'athletes.csv',\n",
    "                          'Informações dos atletas participantes das Olimpíadas de Paris 2024')\n",
    "save_metadata(metadata, BRONZE_PATH / 'athletes_paris2024_metadata.json')\n",
    "\n",
    "df_athletes_2024.head()"
   ]
  },
  {
   "cell_type": "markdown",
   "metadata": {},
   "source": [
    "### 4.2 Medals Paris 2024"
   ]
  },
  {
   "cell_type": "code",
   "execution_count": null,
   "metadata": {},
   "outputs": [],
   "source": [
    "print(\"\\n[2/3] Processando: medals_paris2024...\")\n",
    "df_medals_2024 = pd.read_csv(paris_path / 'medals.csv')\n",
    "\n",
    "print(f\"  Shape: {df_medals_2024.shape}\")\n",
    "print(f\"  Colunas: {df_medals_2024.columns.tolist()}\")\n",
    "\n",
    "# Salvar em parquet\n",
    "output_file = BRONZE_PATH / 'medals_paris2024.parquet'\n",
    "df_medals_2024.to_parquet(output_file, index=False)\n",
    "print(f\"✓ Salvo: {output_file}\")\n",
    "\n",
    "# Criar e salvar metadados\n",
    "metadata = create_metadata(df_medals_2024, 'Medals Paris 2024', \n",
    "                          'medals.csv',\n",
    "                          'Medalhas conquistadas nas Olimpíadas de Paris 2024')\n",
    "save_metadata(metadata, BRONZE_PATH / 'medals_paris2024_metadata.json')\n",
    "\n",
    "df_medals_2024.head()"
   ]
  },
  {
   "cell_type": "markdown",
   "metadata": {},
   "source": [
    "### 4.3 Medals Total Paris 2024"
   ]
  },
  {
   "cell_type": "code",
   "execution_count": null,
   "metadata": {},
   "outputs": [],
   "source": [
    "print(\"\\n[3/3] Processando: medals_total_paris2024...\")\n",
    "df_medals_total_2024 = pd.read_csv(paris_path / 'medals_total.csv')\n",
    "\n",
    "print(f\"  Shape: {df_medals_total_2024.shape}\")\n",
    "print(f\"  Colunas: {df_medals_total_2024.columns.tolist()}\")\n",
    "\n",
    "# Salvar em parquet\n",
    "output_file = BRONZE_PATH / 'medals_total_paris2024.parquet'\n",
    "df_medals_total_2024.to_parquet(output_file, index=False)\n",
    "print(f\"✓ Salvo: {output_file}\")\n",
    "\n",
    "# Criar e salvar metadados\n",
    "metadata = create_metadata(df_medals_total_2024, 'Medals Total Paris 2024', \n",
    "                          'medals_total.csv',\n",
    "                          'Total de medalhas por país nas Olimpíadas de Paris 2024')\n",
    "save_metadata(metadata, BRONZE_PATH / 'medals_total_paris2024_metadata.json')\n",
    "\n",
    "df_medals_total_2024.head()"
   ]
  },
  {
   "cell_type": "markdown",
   "metadata": {},
   "source": [
    "## 5. Resumo do Processamento Bronze"
   ]
  },
  {
   "cell_type": "code",
   "execution_count": null,
   "metadata": {},
   "outputs": [],
   "source": [
    "print(\"\\n\" + \"=\"*80)\n",
    "print(\"RESUMO DO PROCESSAMENTO\")\n",
    "print(\"=\"*80)\n",
    "\n",
    "bronze_files = list(BRONZE_PATH.glob('*.parquet'))\n",
    "print(f\"\\nTotal de arquivos Parquet criados: {len(bronze_files)}\")\n",
    "print(\"\\nArquivos:\")\n",
    "for file in sorted(bronze_files):\n",
    "    size_mb = file.stat().st_size / 1024**2\n",
    "    print(f\"  - {file.name:40s} ({size_mb:8.2f} MB)\")\n",
    "\n",
    "metadata_files = list(BRONZE_PATH.glob('*_metadata.json'))\n",
    "print(f\"\\nTotal de arquivos de metadados criados: {len(metadata_files)}\")\n",
    "\n",
    "print(\"\\n✓ Camada Bronze processada com sucesso!\")"
   ]
  }
 ],
 "metadata": {
  "kernelspec": {
   "display_name": "Python 3",
   "language": "python",
   "name": "python3"
  },
  "language_info": {
   "codemirror_mode": {
    "name": "ipython",
    "version": 3
   },
   "file_extension": ".py",
   "mimetype": "text/x-python",
   "name": "python",
   "nbconvert_exporter": "python",
   "pygments_lexer": "ipython3",
   "version": "3.8.0"
  }
 },
 "nbformat": 4,
 "nbformat_minor": 4
}

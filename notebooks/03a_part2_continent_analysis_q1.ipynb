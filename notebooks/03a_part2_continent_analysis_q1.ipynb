{
 "cells": [
  {
   "cell_type": "markdown",
   "metadata": {},
   "source": [
    "# Parte 2: Análise por Continente - Questão 2.1\n",
    "\n",
    "## Autores\n",
    "**Carlos Lavor Neto** - Engenharia de Computação - UEA\n",
    "\n",
    "**Alexandro Pantoja** - Engenharia de Computação - UEA\n",
    "\n",
    "## Objetivo\n",
    "Responder à pergunta 2.1:\n",
    "- Distribuição total de medalhas por continente\n",
    "- Total acumulado e por edição\n",
    "- Gráficos: pizza e linha\n",
    "- Número médio de atletas por continente"
   ]
  },
  {
   "cell_type": "code",
   "execution_count": null,
   "metadata": {},
   "outputs": [],
   "source": [
    "import pandas as pd\n",
    "import numpy as np\n",
    "import matplotlib.pyplot as plt\n",
    "import seaborn as sns\n",
    "import json\n",
    "from pathlib import Path\n",
    "from datetime import datetime\n",
    "import warnings\n",
    "warnings.filterwarnings('ignore')\n",
    "\n",
    "# Configuração\n",
    "plt.style.use('seaborn-v0_8-darkgrid')\n",
    "sns.set_palette(\"Set2\")\n",
    "plt.rcParams['figure.figsize'] = (14, 8)\n",
    "plt.rcParams['font.size'] = 10\n",
    "\n",
    "print(\"Bibliotecas carregadas com sucesso!\")"
   ]
  },
  {
   "cell_type": "markdown",
   "metadata": {},
   "source": [
    "## 1. Carregar Dados"
   ]
  },
  {
   "cell_type": "code",
   "execution_count": null,
   "metadata": {},
   "outputs": [],
   "source": [
    "# Paths\n",
    "BASE_PATH = Path('..')\n",
    "BRONZE_PATH = BASE_PATH / 'bronze'\n",
    "GOLD_PATH = BASE_PATH / 'gold'\n",
    "OUTPUT_PATH = BASE_PATH / 'outputs'\n",
    "\n",
    "# Carregar dados\n",
    "print(\"Carregando dados...\")\n",
    "df_medal_tally = pd.read_parquet(BRONZE_PATH / 'medal_tally.parquet')\n",
    "df_athlete_event = pd.read_parquet(BRONZE_PATH / 'athlete_event_result.parquet')\n",
    "df_athlete_bio = pd.read_parquet(BRONZE_PATH / 'athlete_bio.parquet')\n",
    "df_game = pd.read_parquet(BRONZE_PATH / 'game.parquet')\n",
    "\n",
    "print(f\"✓ medal_tally: {df_medal_tally.shape}\")\n",
    "print(f\"✓ athlete_event: {df_athlete_event.shape}\")\n",
    "print(f\"✓ athlete_bio: {df_athlete_bio.shape}\")\n",
    "print(f\"✓ game: {df_game.shape}\")"
   ]
  },
  {
   "cell_type": "markdown",
   "metadata": {},
   "source": [
    "## 2. Criar Mapeamento País → Continente"
   ]
  },
  {
   "cell_type": "code",
   "execution_count": null,
   "metadata": {},
   "outputs": [],
   "source": [
    "# Verificar se o mapeamento já existe\n",
    "mapping_file = BRONZE_PATH / 'noc_continent_mapping.parquet'\n",
    "\n",
    "if mapping_file.exists():\n",
    "    print(\"Carregando mapeamento existente...\")\n",
    "    df_noc_continent = pd.read_parquet(mapping_file)\n",
    "    print(f\"✓ Mapeamento carregado: {len(df_noc_continent)} NOCs\")\n",
    "else:\n",
    "    print(\"Criando novo mapeamento...\")\n",
    "    # Aqui o mapeamento será criado no notebook 03a ou já deve existir\n",
    "    print(\"⚠ Execute o notebook de criação do mapeamento primeiro!\")"
   ]
  },
  {
   "cell_type": "markdown",
   "metadata": {},
   "source": [
    "## 3. Integrar Medalhas com Continentes"
   ]
  },
  {
   "cell_type": "code",
   "execution_count": null,
   "metadata": {},
   "outputs": [],
   "source": [
    "# Carregar dados integrados\n",
    "medals_continent_file = BRONZE_PATH / 'medals_by_continent.parquet'\n",
    "\n",
    "if medals_continent_file.exists():\n",
    "    df_medals_continent = pd.read_parquet(medals_continent_file)\n",
    "    print(f\"✓ Dados integrados carregados: {df_medals_continent.shape}\")\n",
    "else:\n",
    "    print(\"Integrando dados...\")\n",
    "    df_medals_continent = df_medal_tally.merge(df_noc_continent, on='country_noc', how='left')\n",
    "    df_medals_continent['continent'] = df_medals_continent['continent'].fillna('Unknown')\n",
    "    df_medals_continent.to_parquet(medals_continent_file, index=False)\n",
    "    print(f\"✓ Dados integrados e salvos: {df_medals_continent.shape}\")\n",
    "\n",
    "df_medals_continent.head()"
   ]
  },
  {
   "cell_type": "markdown",
   "metadata": {},
   "source": [
    "## 4. Pergunta 2.1: Distribuição Total de Medalhas por Continente"
   ]
  },
  {
   "cell_type": "markdown",
   "metadata": {},
   "source": [
    "### 4.1 Total Acumulado"
   ]
  },
  {
   "cell_type": "code",
   "execution_count": null,
   "metadata": {},
   "outputs": [],
   "source": [
    "# Filtrar continentes conhecidos\n",
    "df_known = df_medals_continent[df_medals_continent['continent'] != 'Unknown'].copy()\n",
    "\n",
    "# Agregar por continente\n",
    "medals_by_continent = df_known.groupby('continent').agg({\n",
    "    'gold': 'sum',\n",
    "    'silver': 'sum',\n",
    "    'bronze': 'sum',\n",
    "    'total': 'sum'\n",
    "}).reset_index().sort_values('total', ascending=False)\n",
    "\n",
    "print(\"\\n📊 Total Acumulado de Medalhas por Continente (1896-2022):\")\n",
    "display(medals_by_continent)\n",
    "\n",
    "# Salvar\n",
    "medals_by_continent.to_parquet(GOLD_PATH / 'medals_by_continent_total.parquet', index=False)\n",
    "medals_by_continent.to_csv(OUTPUT_PATH / 'tables' / 'medals_by_continent_total.csv', index=False)\n",
    "print(\"\\n✓ Dados salvos\")"
   ]
  },
  {
   "cell_type": "markdown",
   "metadata": {},
   "source": [
    "### 4.2 Gráfico de Pizza"
   ]
  },
  {
   "cell_type": "code",
   "execution_count": null,
   "metadata": {},
   "outputs": [],
   "source": [
    "fig, ax = plt.subplots(figsize=(12, 8))\n",
    "\n",
    "colors = ['#FF6B6B', '#4ECDC4', '#45B7D1', '#FFA07A', '#98D8C8']\n",
    "explode = [0.05 if i == 0 else 0 for i in range(len(medals_by_continent))]\n",
    "\n",
    "wedges, texts, autotexts = ax.pie(\n",
    "    medals_by_continent['total'],\n",
    "    labels=medals_by_continent['continent'],\n",
    "    autopct='%1.1f%%',\n",
    "    startangle=90,\n",
    "    colors=colors,\n",
    "    explode=explode,\n",
    "    textprops={'fontsize': 12, 'weight': 'bold'}\n",
    ")\n",
    "\n",
    "legend_labels = [\n",
    "    f\"{row['continent']}: {int(row['total'])} medalhas\"\n",
    "    for _, row in medals_by_continent.iterrows()\n",
    "]\n",
    "ax.legend(legend_labels, loc='center left', bbox_to_anchor=(1, 0, 0.5, 1), fontsize=10)\n",
    "\n",
    "plt.title('Distribuição Total de Medalhas por Continente (1896-2022)',\n",
    "          fontsize=14, fontweight='bold', pad=20)\n",
    "plt.tight_layout()\n",
    "\n",
    "plt.savefig(OUTPUT_PATH / 'figures' / 'medals_by_continent_pie.png', dpi=300, bbox_inches='tight')\n",
    "print(\"✓ Gráfico salvo\")\n",
    "plt.show()"
   ]
  },
  {
   "cell_type": "markdown",
   "metadata": {},
   "source": [
    "### 4.3 Medalhas por Edição"
   ]
  },
  {
   "cell_type": "code",
   "execution_count": null,
   "metadata": {},
   "outputs": [],
   "source": [
    "# Agregar por ano e continente\n",
    "medals_by_year = df_known.groupby(['year', 'continent'])['total'].sum().reset_index()\n",
    "medals_pivot = medals_by_year.pivot(index='year', columns='continent', values='total').fillna(0)\n",
    "\n",
    "print(\"\\n📈 Medalhas por Edição - Primeiras linhas:\")\n",
    "display(medals_pivot.head())\n",
    "\n",
    "# Salvar\n",
    "medals_pivot.reset_index().to_parquet(GOLD_PATH / 'medals_by_year_continent.parquet', index=False)\n",
    "medals_pivot.to_csv(OUTPUT_PATH / 'tables' / 'medals_by_year_continent.csv')\n",
    "print(\"✓ Dados salvos\")"
   ]
  },
  {
   "cell_type": "markdown",
   "metadata": {},
   "source": [
    "### 4.4 Gráfico de Linha - Evolução"
   ]
  },
  {
   "cell_type": "code",
   "execution_count": null,
   "metadata": {},
   "outputs": [],
   "source": [
    "fig, ax = plt.subplots(figsize=(16, 8))\n",
    "\n",
    "for continent in medals_pivot.columns:\n",
    "    ax.plot(medals_pivot.index, medals_pivot[continent],\n",
    "            marker='o', linewidth=2, markersize=4, label=continent, alpha=0.8)\n",
    "\n",
    "ax.set_xlabel('Ano', fontsize=12, fontweight='bold')\n",
    "ax.set_ylabel('Total de Medalhas', fontsize=12, fontweight='bold')\n",
    "ax.set_title('Evolução de Medalhas por Continente (1896-2022)',\n",
    "             fontsize=14, fontweight='bold', pad=20)\n",
    "ax.legend(loc='upper left', fontsize=11)\n",
    "ax.grid(True, alpha=0.3)\n",
    "plt.xticks(rotation=45)\n",
    "plt.tight_layout()\n",
    "\n",
    "plt.savefig(OUTPUT_PATH / 'figures' / 'medals_by_year_continent_line.png', dpi=300, bbox_inches='tight')\n",
    "print(\"✓ Gráfico salvo\")\n",
    "plt.show()"
   ]
  },
  {
   "cell_type": "markdown",
   "metadata": {},
   "source": [
    "### 4.5 Número Médio de Atletas"
   ]
  },
  {
   "cell_type": "code",
   "execution_count": null,
   "metadata": {},
   "outputs": [],
   "source": [
    "# Carregar atletas por continente\n",
    "athletes_continent_file = BRONZE_PATH / 'athletes_by_continent.parquet'\n",
    "\n",
    "if athletes_continent_file.exists():\n",
    "    df_athletes_continent = pd.read_parquet(athletes_continent_file)\n",
    "    \n",
    "    # Atletas por edição e continente\n",
    "    athletes_by_edition = df_athletes_continent[\n",
    "        df_athletes_continent['continent'] != 'Unknown'\n",
    "    ].groupby(['edition', 'continent'])['athlete_id'].nunique().reset_index()\n",
    "    athletes_by_edition.columns = ['edition', 'continent', 'num_athletes']\n",
    "    \n",
    "    # Média\n",
    "    avg_athletes = athletes_by_edition.groupby('continent')['num_athletes'].agg([\n",
    "        ('média', 'mean'),\n",
    "        ('desvio_padrão', 'std'),\n",
    "        ('mínimo', 'min'),\n",
    "        ('máximo', 'max')\n",
    "    ]).round(2).reset_index().sort_values('média', ascending=False)\n",
    "    \n",
    "    print(\"\\n👥 Número Médio de Atletas por Continente:\")\n",
    "    display(avg_athletes)\n",
    "    \n",
    "    # Salvar\n",
    "    avg_athletes.to_parquet(GOLD_PATH / 'avg_athletes_by_continent.parquet', index=False)\n",
    "    avg_athletes.to_csv(OUTPUT_PATH / 'tables' / 'avg_athletes_by_continent.csv', index=False)\n",
    "    print(\"✓ Dados salvos\")\n",
    "else:\n",
    "    print(\"⚠ Arquivo de atletas por continente não encontrado\")"
   ]
  },
  {
   "cell_type": "markdown",
   "metadata": {},
   "source": [
    "## 5. Resumo da Questão 2.1"
   ]
  },
  {
   "cell_type": "code",
   "execution_count": null,
   "metadata": {},
   "outputs": [],
   "source": [
    "print(\"\\n\" + \"=\"*80)\n",
    "print(\"RESUMO - QUESTÃO 2.1\")\n",
    "print(\"=\"*80)\n",
    "print(\"\\n✅ Análises Realizadas:\")\n",
    "print(\"   • Distribuição total de medalhas por continente\")\n",
    "print(\"   • Gráfico de pizza (distribuição percentual)\")\n",
    "print(\"   • Evolução temporal por edição\")\n",
    "print(\"   • Gráfico de linha (evolução histórica)\")\n",
    "print(\"   • Estatísticas de número médio de atletas\")\n",
    "print(\"\\n✅ Arquivos Gerados:\")\n",
    "print(\"   • medals_by_continent_total.parquet (Gold)\")\n",
    "print(\"   • medals_by_year_continent.parquet (Gold)\")\n",
    "print(\"   • avg_athletes_by_continent.parquet (Gold)\")\n",
    "print(\"   • medals_by_continent_pie.png (Figura)\")\n",
    "print(\"   • medals_by_year_continent_line.png (Figura)\")\n",
    "print(\"\\n\" + \"=\"*80)\n",
    "print(\"✓ QUESTÃO 2.1 CONCLUÍDA!\")\n",
    "print(\"=\"*80)"
   ]
  }
 ],
 "metadata": {
  "kernelspec": {
   "display_name": "Python 3",
   "language": "python",
   "name": "python3"
  },
  "language_info": {
   "codemirror_mode": {
    "name": "ipython",
    "version": 3
   },
   "file_extension": ".py",
   "mimetype": "text/x-python",
   "name": "python",
   "nbconvert_exporter": "python",
   "pygments_lexer": "ipython3",
   "version": "3.8.0"
  }
 },
 "nbformat": 4,
 "nbformat_minor": 4
}